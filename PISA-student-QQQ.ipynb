{
 "cells": [
  {
   "cell_type": "markdown",
   "id": "eab44f50-b352-46bc-82e2-2d0add4f6d68",
   "metadata": {},
   "source": [
    "Visit the website: https://www.oecd.org/en/data/datasets/pisa-2022-database.html\n",
    "1. Download Dataset\n",
    "2. Download the Codebook\n",
    "\n",
    "Work on the assigned group work only."
   ]
  },
  {
   "cell_type": "markdown",
   "id": "d895e451-9416-4b79-a696-9391fabb9667",
   "metadata": {},
   "source": [
    "Group 1.\r\n",
    "\r\n",
    "Read CY08MSP_STU_Q (you can either download SAS or SPSS file)AV\r\n",
    "Print the variable names of the student questionnaire data\r\n",
    "Push code to GitHub"
   ]
  },
  {
   "cell_type": "code",
   "execution_count": 3,
   "id": "e6e09f1b-dab8-45ed-bf13-92e5241b0701",
   "metadata": {
    "scrolled": true
   },
   "outputs": [
    {
     "name": "stdout",
     "output_type": "stream",
     "text": [
      "Requirement already satisfied: pyreadstat in c:\\users\\haiyil-admin\\anaconda3\\lib\\site-packages (1.2.8)\n",
      "Requirement already satisfied: pandas>=1.2.0 in c:\\users\\haiyil-admin\\anaconda3\\lib\\site-packages (from pyreadstat) (2.1.4)\n",
      "Requirement already satisfied: numpy<2,>=1.23.2 in c:\\users\\haiyil-admin\\anaconda3\\lib\\site-packages (from pandas>=1.2.0->pyreadstat) (1.26.4)\n",
      "Requirement already satisfied: python-dateutil>=2.8.2 in c:\\users\\haiyil-admin\\anaconda3\\lib\\site-packages (from pandas>=1.2.0->pyreadstat) (2.8.2)\n",
      "Requirement already satisfied: pytz>=2020.1 in c:\\users\\haiyil-admin\\anaconda3\\lib\\site-packages (from pandas>=1.2.0->pyreadstat) (2023.3.post1)\n",
      "Requirement already satisfied: tzdata>=2022.1 in c:\\users\\haiyil-admin\\anaconda3\\lib\\site-packages (from pandas>=1.2.0->pyreadstat) (2023.3)\n",
      "Requirement already satisfied: six>=1.5 in c:\\users\\haiyil-admin\\anaconda3\\lib\\site-packages (from python-dateutil>=2.8.2->pandas>=1.2.0->pyreadstat) (1.16.0)\n"
     ]
    }
   ],
   "source": [
    "#!pip install pyreadstat"
   ]
  },
  {
   "cell_type": "code",
   "execution_count": 9,
   "id": "997a490d-547c-4558-9f73-713f13af892a",
   "metadata": {},
   "outputs": [],
   "source": [
    "import pyreadstat\n",
    "\n"
   ]
  },
  {
   "cell_type": "code",
   "execution_count": 10,
   "id": "1376c516-6280-43fc-98bf-2d85828af51a",
   "metadata": {},
   "outputs": [],
   "source": []
  },
  {
   "cell_type": "code",
   "execution_count": null,
   "id": "7bfbab10-b374-4efa-a85b-5a455e89a804",
   "metadata": {},
   "outputs": [],
   "source": []
  },
  {
   "cell_type": "code",
   "execution_count": null,
   "id": "9fbbaca1-b53f-4b12-896c-ee8f83f0880d",
   "metadata": {},
   "outputs": [],
   "source": []
  },
  {
   "cell_type": "code",
   "execution_count": null,
   "id": "02be3c10-d5b9-43db-b9d2-11633e1768a0",
   "metadata": {},
   "outputs": [],
   "source": []
  },
  {
   "cell_type": "markdown",
   "id": "fc7f7fe4-9e42-4618-b73d-879414d1d014",
   "metadata": {},
   "source": [
    "Group 2. \n",
    "1. In the U.S., how many female and male students answered the student questionnaire?\n"
   ]
  },
  {
   "cell_type": "code",
   "execution_count": null,
   "id": "62dbaec4-fbf7-4c21-9ec7-8a630cd6c0db",
   "metadata": {},
   "outputs": [],
   "source": []
  },
  {
   "cell_type": "code",
   "execution_count": null,
   "id": "397ed629-348c-4b56-bb4d-5d477f73db50",
   "metadata": {},
   "outputs": [],
   "source": []
  },
  {
   "cell_type": "code",
   "execution_count": null,
   "id": "1554433a-bdc4-4975-b851-dec4c679444d",
   "metadata": {},
   "outputs": [],
   "source": [
    "Group 3. \n",
    "1. Show the distribution of the highest education level of parents."
   ]
  },
  {
   "cell_type": "code",
   "execution_count": null,
   "id": "e4264259-182c-4113-9a6e-09b2838bd561",
   "metadata": {},
   "outputs": [],
   "source": []
  },
  {
   "cell_type": "code",
   "execution_count": null,
   "id": "842fcaee-a4ca-411e-8998-d2c5ec7d2045",
   "metadata": {},
   "outputs": [],
   "source": []
  },
  {
   "cell_type": "code",
   "execution_count": null,
   "id": "6d659a5d-3f7f-4a01-abfd-8fa09c972b48",
   "metadata": {},
   "outputs": [],
   "source": []
  },
  {
   "cell_type": "code",
   "execution_count": null,
   "id": "f7b15072-77ac-4879-9cf3-6b91665ffe5f",
   "metadata": {},
   "outputs": [],
   "source": [
    "Group 4.\n",
    "1. What is the distribution of the students' index of economic, social and cultural status?"
   ]
  },
  {
   "cell_type": "code",
   "execution_count": null,
   "id": "f27efb2e-b84c-4fa4-b602-59878c4a58b8",
   "metadata": {},
   "outputs": [],
   "source": []
  },
  {
   "cell_type": "code",
   "execution_count": null,
   "id": "c443670a-f25c-43cd-ab7f-26bbb6338757",
   "metadata": {},
   "outputs": [],
   "source": []
  }
 ],
 "metadata": {
  "kernelspec": {
   "display_name": "Python 3 (ipykernel)",
   "language": "python",
   "name": "python3"
  },
  "language_info": {
   "codemirror_mode": {
    "name": "ipython",
    "version": 3
   },
   "file_extension": ".py",
   "mimetype": "text/x-python",
   "name": "python",
   "nbconvert_exporter": "python",
   "pygments_lexer": "ipython3",
   "version": "3.11.7"
  }
 },
 "nbformat": 4,
 "nbformat_minor": 5
}
